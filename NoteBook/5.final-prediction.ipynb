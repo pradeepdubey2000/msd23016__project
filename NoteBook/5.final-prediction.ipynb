{
 "cells": [
  {
   "cell_type": "code",
   "execution_count": null,
   "metadata": {
    "trusted": true
   },
   "outputs": [],
   "source": []
  },
  {
   "cell_type": "code",
   "execution_count": 1,
   "metadata": {
    "_cell_guid": "b1076dfc-b9ad-4769-8c92-a6c4dae69d19",
    "_uuid": "8f2839f25d086af736a60e9eeb907d3b93b6e0e5",
    "execution": {
     "iopub.execute_input": "2024-11-04T08:46:33.961618Z",
     "iopub.status.busy": "2024-11-04T08:46:33.961283Z",
     "iopub.status.idle": "2024-11-04T08:46:34.332589Z",
     "shell.execute_reply": "2024-11-04T08:46:34.331489Z",
     "shell.execute_reply.started": "2024-11-04T08:46:33.961586Z"
    },
    "trusted": true
   },
   "outputs": [
    {
     "name": "stdout",
     "output_type": "stream",
     "text": [
      "/kaggle/input/all_models/scikitlearn/default/1/Integrity_Impact_best_catboost_model.pkl\n",
      "/kaggle/input/all_models/scikitlearn/default/1/Impact_Score_xgb_regressor.pkl\n",
      "/kaggle/input/all_models/scikitlearn/default/1/accessVector_best_catboost_model.pkl\n",
      "/kaggle/input/all_models/scikitlearn/default/1/Availability_Impact_best_catboost_model.pkl\n",
      "/kaggle/input/all_models/scikitlearn/default/1/Availability_Impact_label_encoder.pkl\n",
      "/kaggle/input/all_models/scikitlearn/default/1/Exploitability_Score_xgb_regressor.pkl\n",
      "/kaggle/input/all_models/scikitlearn/default/1/Access_Complexity_label_encoder.pkl\n",
      "/kaggle/input/all_models/scikitlearn/default/1/Integrity_Impactt_label_encoder.pkl\n",
      "/kaggle/input/all_models/scikitlearn/default/1/Access_Complexity_best_catboost_model.pkl\n",
      "/kaggle/input/all_models/scikitlearn/default/1/Confidentiality_Impact_best_catboost_model.pkl\n",
      "/kaggle/input/all_models/scikitlearn/default/1/Confidentiality_Impact_label_encoder.pkl\n",
      "/kaggle/input/all_models/scikitlearn/default/1/Access_Vector_label_encoder.pkl\n",
      "/kaggle/input/all_models/scikitlearn/default/1/BASE_SCORE_xgb_regressor.pkl\n"
     ]
    }
   ],
   "source": [
    "# This Python 3 environment comes with many helpful analytics libraries installed\n",
    "# It is defined by the kaggle/python Docker image: https://github.com/kaggle/docker-python\n",
    "# For example, here's several helpful packages to load\n",
    "\n",
    "import numpy as np # linear algebra\n",
    "import pandas as pd # data processing, CSV file I/O (e.g. pd.read_csv)\n",
    "\n",
    "# Input data files are available in the read-only \"../input/\" directory\n",
    "# For example, running this (by clicking run or pressing Shift+Enter) will list all files under the input directory\n",
    "\n",
    "import os\n",
    "for dirname, _, filenames in os.walk('/kaggle/input'):\n",
    "    for filename in filenames:\n",
    "        print(os.path.join(dirname, filename))\n",
    "\n",
    "# You can write up to 20GB to the current directory (/kaggle/working/) that gets preserved as output when you create a version using \"Save & Run All\" \n",
    "# You can also write temporary files to /kaggle/temp/, but they won't be saved outside of the current session"
   ]
  },
  {
   "cell_type": "code",
   "execution_count": 1,
   "metadata": {
    "execution": {
     "iopub.execute_input": "2024-11-04T08:46:35.536389Z",
     "iopub.status.busy": "2024-11-04T08:46:35.535859Z",
     "iopub.status.idle": "2024-11-04T08:47:12.012020Z",
     "shell.execute_reply": "2024-11-04T08:47:12.010793Z",
     "shell.execute_reply.started": "2024-11-04T08:46:35.536350Z"
    },
    "trusted": true
   },
   "outputs": [
    {
     "name": "stdout",
     "output_type": "stream",
     "text": [
      "Requirement already satisfied: xgboost in c:\\anaconda3\\lib\\site-packages (2.1.2)\n",
      "Requirement already satisfied: numpy in c:\\anaconda3\\lib\\site-packages (from xgboost) (1.26.4)\n",
      "Requirement already satisfied: scipy in c:\\anaconda3\\lib\\site-packages (from xgboost) (1.13.1)\n",
      "Requirement already satisfied: lightgbm in c:\\anaconda3\\lib\\site-packages (4.5.0)\n",
      "Requirement already satisfied: catboost in c:\\anaconda3\\lib\\site-packages (1.2.7)\n",
      "Requirement already satisfied: torch in c:\\anaconda3\\lib\\site-packages (2.3.1)\n",
      "Requirement already satisfied: torchvision in c:\\anaconda3\\lib\\site-packages (0.18.1)\n",
      "Requirement already satisfied: torchaudio in c:\\anaconda3\\lib\\site-packages (2.3.1)\n",
      "Requirement already satisfied: numpy>=1.17.0 in c:\\anaconda3\\lib\\site-packages (from lightgbm) (1.26.4)\n",
      "Requirement already satisfied: scipy in c:\\anaconda3\\lib\\site-packages (from lightgbm) (1.13.1)\n",
      "Requirement already satisfied: graphviz in c:\\anaconda3\\lib\\site-packages (from catboost) (0.20.3)\n",
      "Requirement already satisfied: matplotlib in c:\\anaconda3\\lib\\site-packages (from catboost) (3.8.4)\n",
      "Requirement already satisfied: pandas>=0.24 in c:\\anaconda3\\lib\\site-packages (from catboost) (2.0.2)\n",
      "Requirement already satisfied: plotly in c:\\anaconda3\\lib\\site-packages (from catboost) (5.22.0)\n",
      "Requirement already satisfied: six in c:\\anaconda3\\lib\\site-packages (from catboost) (1.16.0)\n",
      "Requirement already satisfied: filelock in c:\\anaconda3\\lib\\site-packages (from torch) (3.13.1)\n",
      "Requirement already satisfied: typing-extensions>=4.8.0 in c:\\anaconda3\\lib\\site-packages (from torch) (4.11.0)\n",
      "Requirement already satisfied: sympy in c:\\anaconda3\\lib\\site-packages (from torch) (1.12)\n",
      "Requirement already satisfied: networkx in c:\\anaconda3\\lib\\site-packages (from torch) (3.2.1)\n",
      "Requirement already satisfied: jinja2 in c:\\anaconda3\\lib\\site-packages (from torch) (3.0.0)\n",
      "Requirement already satisfied: fsspec in c:\\anaconda3\\lib\\site-packages (from torch) (2024.3.1)\n",
      "Requirement already satisfied: mkl<=2021.4.0,>=2021.1.1 in c:\\anaconda3\\lib\\site-packages (from torch) (2021.4.0)\n",
      "Requirement already satisfied: pillow!=8.3.*,>=5.3.0 in c:\\users\\pradeep dubey\\appdata\\roaming\\python\\python312\\site-packages (from torchvision) (10.4.0)\n",
      "Requirement already satisfied: intel-openmp==2021.* in c:\\anaconda3\\lib\\site-packages (from mkl<=2021.4.0,>=2021.1.1->torch) (2021.4.0)\n",
      "Requirement already satisfied: tbb==2021.* in c:\\anaconda3\\lib\\site-packages (from mkl<=2021.4.0,>=2021.1.1->torch) (2021.11.0)\n",
      "Requirement already satisfied: python-dateutil>=2.8.2 in c:\\anaconda3\\lib\\site-packages (from pandas>=0.24->catboost) (2.9.0.post0)\n",
      "Requirement already satisfied: pytz>=2020.1 in c:\\anaconda3\\lib\\site-packages (from pandas>=0.24->catboost) (2024.1)\n",
      "Requirement already satisfied: tzdata>=2022.1 in c:\\anaconda3\\lib\\site-packages (from pandas>=0.24->catboost) (2023.3)\n",
      "Requirement already satisfied: MarkupSafe>=2.0.0rc2 in c:\\anaconda3\\lib\\site-packages (from jinja2->torch) (2.1.3)\n",
      "Requirement already satisfied: contourpy>=1.0.1 in c:\\anaconda3\\lib\\site-packages (from matplotlib->catboost) (1.2.0)\n",
      "Requirement already satisfied: cycler>=0.10 in c:\\anaconda3\\lib\\site-packages (from matplotlib->catboost) (0.11.0)\n",
      "Requirement already satisfied: fonttools>=4.22.0 in c:\\anaconda3\\lib\\site-packages (from matplotlib->catboost) (4.51.0)\n",
      "Requirement already satisfied: kiwisolver>=1.3.1 in c:\\anaconda3\\lib\\site-packages (from matplotlib->catboost) (1.4.4)\n",
      "Requirement already satisfied: packaging>=20.0 in c:\\anaconda3\\lib\\site-packages (from matplotlib->catboost) (23.2)\n",
      "Requirement already satisfied: pyparsing>=2.3.1 in c:\\anaconda3\\lib\\site-packages (from matplotlib->catboost) (3.0.9)\n",
      "Requirement already satisfied: tenacity>=6.2.0 in c:\\anaconda3\\lib\\site-packages (from plotly->catboost) (8.5.0)\n",
      "Requirement already satisfied: mpmath>=0.19 in c:\\anaconda3\\lib\\site-packages (from sympy->torch) (1.3.0)\n",
      "Requirement already satisfied: sentence-transformers in c:\\anaconda3\\lib\\site-packages (3.1.1)\n",
      "Requirement already satisfied: transformers<5.0.0,>=4.38.0 in c:\\anaconda3\\lib\\site-packages (from sentence-transformers) (4.44.2)\n",
      "Requirement already satisfied: tqdm in c:\\anaconda3\\lib\\site-packages (from sentence-transformers) (4.66.4)\n",
      "Requirement already satisfied: torch>=1.11.0 in c:\\anaconda3\\lib\\site-packages (from sentence-transformers) (2.3.1)\n",
      "Requirement already satisfied: scikit-learn in c:\\anaconda3\\lib\\site-packages (from sentence-transformers) (1.4.2)\n",
      "Requirement already satisfied: scipy in c:\\anaconda3\\lib\\site-packages (from sentence-transformers) (1.13.1)\n",
      "Requirement already satisfied: huggingface-hub>=0.19.3 in c:\\anaconda3\\lib\\site-packages (from sentence-transformers) (0.24.6)\n",
      "Requirement already satisfied: Pillow in c:\\users\\pradeep dubey\\appdata\\roaming\\python\\python312\\site-packages (from sentence-transformers) (10.4.0)\n",
      "Requirement already satisfied: filelock in c:\\anaconda3\\lib\\site-packages (from huggingface-hub>=0.19.3->sentence-transformers) (3.13.1)\n",
      "Requirement already satisfied: fsspec>=2023.5.0 in c:\\anaconda3\\lib\\site-packages (from huggingface-hub>=0.19.3->sentence-transformers) (2024.3.1)\n",
      "Requirement already satisfied: packaging>=20.9 in c:\\anaconda3\\lib\\site-packages (from huggingface-hub>=0.19.3->sentence-transformers) (23.2)\n",
      "Requirement already satisfied: pyyaml>=5.1 in c:\\anaconda3\\lib\\site-packages (from huggingface-hub>=0.19.3->sentence-transformers) (6.0.1)\n",
      "Requirement already satisfied: requests in c:\\anaconda3\\lib\\site-packages (from huggingface-hub>=0.19.3->sentence-transformers) (2.32.3)\n",
      "Requirement already satisfied: typing-extensions>=3.7.4.3 in c:\\anaconda3\\lib\\site-packages (from huggingface-hub>=0.19.3->sentence-transformers) (4.11.0)\n",
      "Requirement already satisfied: sympy in c:\\anaconda3\\lib\\site-packages (from torch>=1.11.0->sentence-transformers) (1.12)\n",
      "Requirement already satisfied: networkx in c:\\anaconda3\\lib\\site-packages (from torch>=1.11.0->sentence-transformers) (3.2.1)\n",
      "Requirement already satisfied: jinja2 in c:\\anaconda3\\lib\\site-packages (from torch>=1.11.0->sentence-transformers) (3.0.0)\n",
      "Requirement already satisfied: mkl<=2021.4.0,>=2021.1.1 in c:\\anaconda3\\lib\\site-packages (from torch>=1.11.0->sentence-transformers) (2021.4.0)\n",
      "Requirement already satisfied: colorama in c:\\anaconda3\\lib\\site-packages (from tqdm->sentence-transformers) (0.4.6)\n",
      "Requirement already satisfied: numpy>=1.17 in c:\\anaconda3\\lib\\site-packages (from transformers<5.0.0,>=4.38.0->sentence-transformers) (1.26.4)\n",
      "Requirement already satisfied: regex!=2019.12.17 in c:\\anaconda3\\lib\\site-packages (from transformers<5.0.0,>=4.38.0->sentence-transformers) (2023.10.3)\n",
      "Requirement already satisfied: safetensors>=0.4.1 in c:\\anaconda3\\lib\\site-packages (from transformers<5.0.0,>=4.38.0->sentence-transformers) (0.4.4)\n",
      "Requirement already satisfied: tokenizers<0.20,>=0.19 in c:\\anaconda3\\lib\\site-packages (from transformers<5.0.0,>=4.38.0->sentence-transformers) (0.19.1)\n",
      "Requirement already satisfied: joblib>=1.2.0 in c:\\anaconda3\\lib\\site-packages (from scikit-learn->sentence-transformers) (1.4.2)\n",
      "Requirement already satisfied: threadpoolctl>=2.0.0 in c:\\anaconda3\\lib\\site-packages (from scikit-learn->sentence-transformers) (2.2.0)\n",
      "Requirement already satisfied: intel-openmp==2021.* in c:\\anaconda3\\lib\\site-packages (from mkl<=2021.4.0,>=2021.1.1->torch>=1.11.0->sentence-transformers) (2021.4.0)\n",
      "Requirement already satisfied: tbb==2021.* in c:\\anaconda3\\lib\\site-packages (from mkl<=2021.4.0,>=2021.1.1->torch>=1.11.0->sentence-transformers) (2021.11.0)\n",
      "Requirement already satisfied: MarkupSafe>=2.0.0rc2 in c:\\anaconda3\\lib\\site-packages (from jinja2->torch>=1.11.0->sentence-transformers) (2.1.3)\n",
      "Requirement already satisfied: charset-normalizer<4,>=2 in c:\\anaconda3\\lib\\site-packages (from requests->huggingface-hub>=0.19.3->sentence-transformers) (3.3.2)\n",
      "Requirement already satisfied: idna<4,>=2.5 in c:\\anaconda3\\lib\\site-packages (from requests->huggingface-hub>=0.19.3->sentence-transformers) (3.8)\n",
      "Requirement already satisfied: urllib3<3,>=1.21.1 in c:\\anaconda3\\lib\\site-packages (from requests->huggingface-hub>=0.19.3->sentence-transformers) (1.26.20)\n",
      "Requirement already satisfied: certifi>=2017.4.17 in c:\\anaconda3\\lib\\site-packages (from requests->huggingface-hub>=0.19.3->sentence-transformers) (2024.7.4)\n",
      "Requirement already satisfied: mpmath>=0.19 in c:\\anaconda3\\lib\\site-packages (from sympy->torch>=1.11.0->sentence-transformers) (1.3.0)\n"
     ]
    }
   ],
   "source": [
    "! pip install xgboost\n",
    "!pip install lightgbm catboost torch torchvision torchaudio\n",
    "!pip install sentence-transformers\n"
   ]
  },
  {
   "cell_type": "code",
   "execution_count": 10,
   "metadata": {
    "execution": {
     "iopub.execute_input": "2024-11-04T08:52:13.820443Z",
     "iopub.status.busy": "2024-11-04T08:52:13.819717Z",
     "iopub.status.idle": "2024-11-04T08:52:14.745970Z",
     "shell.execute_reply": "2024-11-04T08:52:14.745140Z",
     "shell.execute_reply.started": "2024-11-04T08:52:13.820395Z"
    },
    "trusted": true
   },
   "outputs": [],
   "source": [
    "import numpy as np\n",
    "import pickle\n",
    "import warnings\n",
    "from sentence_transformers import SentenceTransformer\n",
    "\n",
    "# Suppress all warnings\n",
    "warnings.filterwarnings(\"ignore\")\n",
    "\n",
    "# Load the embedding model\n",
    "model = SentenceTransformer('sentence-transformers/all-mpnet-base-v2')\n",
    "\n",
    "def predict_metrics(description):\n",
    "    # Function to convert a single description to embedding\n",
    "    embedding = model.encode(description, convert_to_tensor=True).cpu().numpy().reshape(1, -1)\n",
    "\n",
    "    # Define columns to exclude for input features\n",
    "    columns_to_exclude = [\n",
    "        'Impact_Score', 'CVE_ID', 'ASSIGNER', 'Description', \n",
    "        'Published_Date', 'Last_Modified_Date', \n",
    "        'Access_Vector', 'Access_Complexity', \n",
    "        'Configurations', 'Reference_Data',\n",
    "        'Year', 'Base_Score', 'Exploitability_Score', \n",
    "        'Confidentiality_Impact', 'Integrity_Impact', \n",
    "        'Availability_Impact'\n",
    "    ]\n",
    "\n",
    "    # Define paths for models stored on Kaggle\n",
    "    base_path = r'C:\\Users\\pradeep dubey\\Desktop\\NLP_Project\\MODELS2'\n",
    "    # Load regression and classification models\n",
    "    regression_models = {\n",
    "        \"Impact_Score\": base_path + \"\\Impact_Score_xgb_regressor.pkl\",\n",
    "        \"Base_Score\": base_path + \"\\BASE_SCORE_xgb_regressor.pkl\",\n",
    "        \"Exploitability_Score\": base_path + \"\\Exploitability_Score_xgb_regressor.pkl\"\n",
    "    }\n",
    "\n",
    "    classification_models = {\n",
    "        \"Access_Complexity\": (base_path + \"\\\\Access_Complexity_best_catboost_model.pkl\", base_path + \"\\\\Access_Complexity_label_encoder.pkl\"),\n",
    "        \"Access_Vector\": (base_path + \"\\\\accessVector_best_catboost_model.pkl\", base_path + \"\\\\Access_Vector_label_encoder.pkl\"),\n",
    "        \"Availability_Impact\": (base_path + \"\\\\Availability_Impact_best_catboost_model.pkl\", base_path + \"\\\\Availability_Impact_label_encoder.pkl\"),\n",
    "        \"Confidentiality_Impact\": (base_path + \"\\\\Confidentiality_Impact_best_xgboost_model.pkl\", base_path + \"\\\\Confidentiality_Impact_label_encoder.pkl\"),\n",
    "        \"Integrity_Impact\": (base_path + \"\\\\Integrity_Impact_best_xgboost_model.pkl\", base_path + \"\\\\Integrity_Impact_label_encoder.pkl\"),\n",
    "    }\n",
    "\n",
    "    # Initialize dictionary to hold predicted values\n",
    "    predicted_outputs = {}\n",
    "\n",
    "    # Predict regression targets\n",
    "    for target, model_file in regression_models.items():\n",
    "        with open(model_file, 'rb') as file:\n",
    "            loaded_model = pickle.load(file)\n",
    "        \n",
    "        predicted_output = loaded_model.predict(embedding).flatten()  # Use flatten for regression output\n",
    "        predicted_outputs[target] = predicted_output[0]  # Store predicted value\n",
    "\n",
    "    # Predict classification targets with label decoding\n",
    "    for target, (model_file, encoder_file) in classification_models.items():\n",
    "        with open(encoder_file, 'rb') as f:\n",
    "            label_encoder = pickle.load(f)\n",
    "\n",
    "        with open(model_file, 'rb') as f:\n",
    "            best_model = pickle.load(f)\n",
    "\n",
    "        predicted_label_encoded = best_model.predict(embedding).flatten()  # Ensure 1D\n",
    "        predicted_label = label_encoder.inverse_transform(predicted_label_encoded.astype(int))\n",
    "        predicted_outputs[target] = predicted_label[0]  # Store predicted label\n",
    "\n",
    "    # Return predicted values for all outputs\n",
    "    return predicted_outputs\n"
   ]
  },
  {
   "cell_type": "code",
   "execution_count": 11,
   "metadata": {
    "execution": {
     "iopub.execute_input": "2024-11-04T08:52:24.439275Z",
     "iopub.status.busy": "2024-11-04T08:52:24.438580Z",
     "iopub.status.idle": "2024-11-04T08:52:24.585312Z",
     "shell.execute_reply": "2024-11-04T08:52:24.584117Z",
     "shell.execute_reply.started": "2024-11-04T08:52:24.439232Z"
    },
    "trusted": true
   },
   "outputs": [
    {
     "name": "stdout",
     "output_type": "stream",
     "text": [
      "Predicted Outputs:\n",
      "Impact_Score: 3.537036895751953\n",
      "Base_Score: 5.620712757110596\n",
      "Exploitability_Score: 6.123106956481934\n",
      "Access_Complexity: MEDIUM\n",
      "Access_Vector: NETWORK\n",
      "Availability_Impact: NONE\n",
      "Confidentiality_Impact: NONE\n",
      "Integrity_Impact: NONE\n"
     ]
    }
   ],
   "source": [
    "# Example usage\n",
    "new_description = \"The Certificate Trust Policy component in Apple Mac OS X before 10.6.8 does not perform CRL checking for Extended Validation (EV) certificates that lack OCSP URLs, which might allow man-in-the-middle attackers to spoof an SSL server via a revoked certificate.\"\n",
    "predicted_metrics = predict_metrics(new_description)\n",
    "\n",
    "# Display only predicted metrics\n",
    "print(\"Predicted Outputs:\")\n",
    "for key, value in predicted_metrics.items():\n",
    "    print(f\"{key}: {value}\")"
   ]
  },
  {
   "cell_type": "code",
   "execution_count": null,
   "metadata": {
    "trusted": true
   },
   "outputs": [],
   "source": []
  }
 ],
 "metadata": {
  "kernelspec": {
   "display_name": "base",
   "language": "python",
   "name": "python3"
  },
  "language_info": {
   "codemirror_mode": {
    "name": "ipython",
    "version": 3
   },
   "file_extension": ".py",
   "mimetype": "text/x-python",
   "name": "python",
   "nbconvert_exporter": "python",
   "pygments_lexer": "ipython3",
   "version": "3.12.3"
  }
 },
 "nbformat": 4,
 "nbformat_minor": 4
}
