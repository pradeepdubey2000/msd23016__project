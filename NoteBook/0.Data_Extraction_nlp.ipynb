{
  "nbformat": 4,
  "nbformat_minor": 0,
  "metadata": {
    "colab": {
      "provenance": [],
      "gpuType": "V28"
    },
    "kernelspec": {
      "name": "python3",
      "display_name": "Python 3"
    },
    "language_info": {
      "name": "python"
    },
    "accelerator": "TPU"
  },
  "cells": [
    {
      "cell_type": "code",
      "execution_count": 1,
      "metadata": {
        "colab": {
          "base_uri": "https://localhost:8080/"
        },
        "id": "SvJKvUv8fTgr",
        "outputId": "7f5fb568-34e8-420e-e848-a3a9d0837353"
      },
      "outputs": [
        {
          "output_type": "stream",
          "name": "stdout",
          "text": [
            "CVE data for 2002 saved to cve_data/all_cve_entries_2002.json\n",
            "CVE data for 2003 saved to cve_data/all_cve_entries_2003.json\n",
            "CVE data for 2004 saved to cve_data/all_cve_entries_2004.json\n",
            "CVE data for 2005 saved to cve_data/all_cve_entries_2005.json\n",
            "CVE data for 2006 saved to cve_data/all_cve_entries_2006.json\n",
            "CVE data for 2007 saved to cve_data/all_cve_entries_2007.json\n",
            "CVE data for 2008 saved to cve_data/all_cve_entries_2008.json\n",
            "CVE data for 2009 saved to cve_data/all_cve_entries_2009.json\n",
            "CVE data for 2010 saved to cve_data/all_cve_entries_2010.json\n",
            "CVE data for 2011 saved to cve_data/all_cve_entries_2011.json\n",
            "CVE data for 2012 saved to cve_data/all_cve_entries_2012.json\n",
            "CVE data for 2013 saved to cve_data/all_cve_entries_2013.json\n",
            "CVE data for 2014 saved to cve_data/all_cve_entries_2014.json\n",
            "CVE data for 2015 saved to cve_data/all_cve_entries_2015.json\n",
            "CVE data for 2016 saved to cve_data/all_cve_entries_2016.json\n",
            "CVE data for 2017 saved to cve_data/all_cve_entries_2017.json\n",
            "CVE data for 2018 saved to cve_data/all_cve_entries_2018.json\n",
            "CVE data for 2019 saved to cve_data/all_cve_entries_2019.json\n",
            "CVE data for 2020 saved to cve_data/all_cve_entries_2020.json\n",
            "CVE data for 2021 saved to cve_data/all_cve_entries_2021.json\n",
            "CVE data for 2022 saved to cve_data/all_cve_entries_2022.json\n",
            "CVE data for 2023 saved to cve_data/all_cve_entries_2023.json\n",
            "CVE data for 2024 saved to cve_data/all_cve_entries_2024.json\n"
          ]
        }
      ],
      "source": [
        "import os\n",
        "import requests\n",
        "import gzip\n",
        "import json\n",
        "from io import BytesIO\n",
        "\n",
        "# Function to create a folder if it doesn't exist\n",
        "def create_directory(directory):\n",
        "    if not os.path.exists(directory):\n",
        "        os.makedirs(directory)\n",
        "\n",
        "# Function to download, decompress, and save CVE data for a given year\n",
        "def fetch_and_save_cve_data(year, folder):\n",
        "    url = f'https://nvd.nist.gov/feeds/json/cve/1.1/nvdcve-1.1-{year}.json.gz'\n",
        "    response = requests.get(url)\n",
        "\n",
        "    if response.status_code == 200:\n",
        "        with gzip.GzipFile(fileobj=BytesIO(response.content)) as f:\n",
        "            data = json.load(f)\n",
        "\n",
        "        # Save the fetched data to a JSON file in the specified folder\n",
        "        filename = os.path.join(folder, f'all_cve_entries_{year}.json')\n",
        "        with open(filename, 'w') as outfile:\n",
        "            json.dump(data, outfile, indent=2)\n",
        "        print(f\"CVE data for {year} saved to {filename}\")\n",
        "    else:\n",
        "        print(f\"Failed to retrieve data for {year}. Status code: {response.status_code}\")\n",
        "\n",
        "# Create a folder named 'cve_data' to store all CVE data files\n",
        "folder_name = 'cve_data'\n",
        "create_directory(folder_name)\n",
        "\n",
        "# List of all years for which the CVE data is available\n",
        "start_year = 2002  # CVE JSON data starts from 2002\n",
        "end_year = 2024    # Current year\n",
        "years = range(start_year, end_year + 1)\n",
        "\n",
        "# Loop through all the years and fetch the data, saving each file in the 'cve_data' folder\n",
        "for year in years:\n",
        "    fetch_and_save_cve_data(year,folder_name)"
      ]
    },
    {
      "cell_type": "code",
      "source": [
        "!pip install openpyxl"
      ],
      "metadata": {
        "colab": {
          "base_uri": "https://localhost:8080/"
        },
        "id": "t3hUiEy4tx6D",
        "outputId": "e4ab084a-a8c8-412d-e64d-18afe460e69b"
      },
      "execution_count": 3,
      "outputs": [
        {
          "output_type": "stream",
          "name": "stdout",
          "text": [
            "Collecting openpyxl\n",
            "  Downloading openpyxl-3.1.5-py2.py3-none-any.whl.metadata (2.5 kB)\n",
            "Collecting et-xmlfile (from openpyxl)\n",
            "  Downloading et_xmlfile-2.0.0-py3-none-any.whl.metadata (2.7 kB)\n",
            "Downloading openpyxl-3.1.5-py2.py3-none-any.whl (250 kB)\n",
            "\u001b[2K   \u001b[90m━━━━━━━━━━━━━━━━━━━━━━━━━━━━━━━━━━━━━━━━\u001b[0m \u001b[32m250.9/250.9 kB\u001b[0m \u001b[31m4.2 MB/s\u001b[0m eta \u001b[36m0:00:00\u001b[0m\n",
            "\u001b[?25hDownloading et_xmlfile-2.0.0-py3-none-any.whl (18 kB)\n",
            "Installing collected packages: et-xmlfile, openpyxl\n",
            "Successfully installed et-xmlfile-2.0.0 openpyxl-3.1.5\n"
          ]
        }
      ]
    },
    {
      "cell_type": "code",
      "source": [
        "import os\n",
        "import json\n",
        "import spacy\n",
        "import pandas as pd\n",
        "from google.colab import drive\n",
        "\n",
        "# Mount Google Drive\n",
        "drive.mount('/content/drive')\n",
        "\n",
        "# Load spaCy model for POS tagging, dependency parsing, and NER\n",
        "nlp = spacy.load('en_core_web_sm')\n",
        "\n",
        "# Function to extract relevant fields from a CVE item\n",
        "def extract_cve_fields(cve_item):\n",
        "    try:\n",
        "        fields = {\n",
        "            'CVE_ID': cve_item.get('cve', {}).get('CVE_data_meta', {}).get('ID', 'N/A'),\n",
        "            'ASSIGNER': cve_item.get('cve', {}).get('CVE_data_meta', {}).get('ASSIGNER', 'N/A'),\n",
        "            'Description': ' '.join([desc.get('value', '') for desc in cve_item.get('cve', {}).get('description', {}).get('description_data', [])]),\n",
        "            'Problem_Type': ','.join([ptype.get('value', '') for ptype in cve_item.get('cve', {}).get('problemtype', {}).get('problemtype_data', [])]),\n",
        "            'Published_Date': cve_item.get('publishedDate', 'N/A'),\n",
        "            'Last_Modified_Date': cve_item.get('lastModifiedDate', 'N/A'),\n",
        "            'CVSS_v3_Base_Score': cve_item.get('impact', {}).get('baseMetricV3', {}).get('cvssV3', {}).get('baseScore', 'N/A'),\n",
        "            'CVSS_v3_Vector_String': cve_item.get('impact', {}).get('baseMetricV3', {}).get('cvssV3', {}).get('vectorString', 'N/A'),\n",
        "            'Confidentiality_Impact_v3': cve_item.get('impact', {}).get('baseMetricV3', {}).get('cvssV3', {}).get('confidentialityImpact', 'N/A'),\n",
        "            'Integrity_Impact_v3': cve_item.get('impact', {}).get('baseMetricV3', {}).get('cvssV3', {}).get('integrityImpact', 'N/A'),\n",
        "            'Availability_Impact_v3': cve_item.get('impact', {}).get('baseMetricV3', {}).get('cvssV3', {}).get('availabilityImpact', 'N/A'),\n",
        "            'Exploitability_Score_v3': cve_item.get('impact', {}).get('baseMetricV3', {}).get('exploitabilityScore', 'N/A'),\n",
        "            'Impact_Score_v3': cve_item.get('impact', {}).get('baseMetricV3', {}).get('impactScore', 'N/A'),\n",
        "            'CVSS_v2_Base_Score': cve_item.get('impact', {}).get('baseMetricV2', {}).get('cvssV2', {}).get('baseScore', 'N/A'),\n",
        "            'CVSS_v2_Vector_String': cve_item.get('impact', {}).get('baseMetricV2', {}).get('cvssV2', {}).get('vectorString', 'N/A'),\n",
        "            'Access_Vector_v2': cve_item.get('impact', {}).get('baseMetricV2', {}).get('cvssV2', {}).get('accessVector', 'N/A'),\n",
        "            'Access_Complexity_v2': cve_item.get('impact', {}).get('baseMetricV2', {}).get('cvssV2', {}).get('accessComplexity', 'N/A'),\n",
        "            'Authentication_v2': cve_item.get('impact', {}).get('baseMetricV2', {}).get('authentication', 'N/A'),\n",
        "            'Confidentiality_Impact_v2': cve_item.get('impact', {}).get('baseMetricV2', {}).get('cvssV2', {}).get('confidentialityImpact', 'N/A'),\n",
        "            'Integrity_Impact_v2': cve_item.get('impact', {}).get('baseMetricV2', {}).get('cvssV2', {}).get('integrityImpact', 'N/A'),\n",
        "            'Availability_Impact_v2': cve_item.get('impact', {}).get('baseMetricV2', {}).get('cvssV2', {}).get('availabilityImpact', 'N/A'),\n",
        "            'Exploitability_Score_v2': cve_item.get('impact', {}).get('baseMetricV2', {}).get('exploitabilityScore', 'N/A'),\n",
        "            'Configurations': [cpe.get('cpe23Uri', '') for node in cve_item.get('configurations', {}).get('nodes', []) for cpe in node.get('cpe_match', [])],\n",
        "            'Reference_Data': [ref.get('url', '') for ref in cve_item.get('cve', {}).get('references', {}).get('reference_data', [])],\n",
        "        }\n",
        "\n",
        "        # Add NLP processing to the description\n",
        "        doc = nlp(fields['Description'])\n",
        "        fields['POS_Tags'] = [(token.text, token.pos_) for token in doc]\n",
        "        fields['NER'] = [(ent.text, ent.label_) for ent in doc.ents]\n",
        "\n",
        "        return fields\n",
        "    except Exception as e:\n",
        "        print(f\"Error processing CVE: {cve_item.get('cve', {}).get('CVE_data_meta', {}).get('ID', 'Unknown')} - {str(e)}\")\n",
        "        return None\n",
        "\n",
        "# Function to process each JSON file in the directory\n",
        "def process_cve_data_directory(directory):\n",
        "    all_cve_data = []\n",
        "\n",
        "    # Loop through each file in the directory\n",
        "    for filename in os.listdir(directory):\n",
        "        if filename.endswith('.json'):\n",
        "            filepath = os.path.join(directory, filename)\n",
        "            with open(filepath, 'r') as file:\n",
        "                data = json.load(file)\n",
        "\n",
        "                # Loop through each CVE entry in the file\n",
        "                for cve_item in data.get('CVE_Items', []):\n",
        "                    cve_data = extract_cve_fields(cve_item)\n",
        "                    if cve_data:\n",
        "                        all_cve_data.append(cve_data)\n",
        "\n",
        "    # Convert the collected data into a DataFrame and save as an Excel file\n",
        "    df = pd.DataFrame(all_cve_data)\n",
        "\n",
        "    # Save file to your Google Drive\n",
        "    df.to_excel('/content/drive/My Drive/extracted_cve_data.xlsx', index=False)\n",
        "    print(\"CVE data extracted and saved to 'extracted_cve_data.xlsx' in your Google Drive\")\n",
        "\n",
        "# Call the processing function for the 'cve_data' folder\n",
        "process_cve_data_directory('cve_data')\n"
      ],
      "metadata": {
        "colab": {
          "base_uri": "https://localhost:8080/"
        },
        "id": "QpgyyUl0fgvu",
        "outputId": "bd94f383-5814-47b4-ff6b-f8f6b4b1497f"
      },
      "execution_count": null,
      "outputs": [
        {
          "metadata": {
            "tags": null
          },
          "name": "stdout",
          "output_type": "stream",
          "text": [
            "Drive already mounted at /content/drive; to attempt to forcibly remount, call drive.mount(\"/content/drive\", force_remount=True).\n"
          ]
        }
      ]
    }
  ]
}